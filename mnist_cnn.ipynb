{
 "cells": [
  {
   "cell_type": "code",
   "execution_count": 1,
   "id": "997e7793-69ae-4972-a898-f663490fbfc4",
   "metadata": {},
   "outputs": [
    {
     "name": "stdout",
     "output_type": "stream",
     "text": [
      "Epoch 1/10\n",
      "422/422 - 91s - 215ms/step - accuracy: 0.9046 - loss: 0.3010 - val_accuracy: 0.9848 - val_loss: 0.0488\n",
      "Epoch 2/10\n",
      "422/422 - 89s - 212ms/step - accuracy: 0.9727 - loss: 0.0926 - val_accuracy: 0.9910 - val_loss: 0.0333\n",
      "Epoch 3/10\n",
      "422/422 - 91s - 217ms/step - accuracy: 0.9797 - loss: 0.0670 - val_accuracy: 0.9930 - val_loss: 0.0280\n",
      "Epoch 4/10\n",
      "422/422 - 97s - 229ms/step - accuracy: 0.9846 - loss: 0.0537 - val_accuracy: 0.9925 - val_loss: 0.0312\n",
      "Epoch 5/10\n",
      "422/422 - 136s - 323ms/step - accuracy: 0.9865 - loss: 0.0475 - val_accuracy: 0.9925 - val_loss: 0.0284\n",
      "Epoch 6/10\n",
      "422/422 - 201s - 477ms/step - accuracy: 0.9876 - loss: 0.0415 - val_accuracy: 0.9938 - val_loss: 0.0257\n",
      "Epoch 7/10\n",
      "422/422 - 121s - 286ms/step - accuracy: 0.9889 - loss: 0.0369 - val_accuracy: 0.9922 - val_loss: 0.0311\n",
      "Epoch 8/10\n",
      "422/422 - 117s - 278ms/step - accuracy: 0.9900 - loss: 0.0332 - val_accuracy: 0.9943 - val_loss: 0.0252\n",
      "Epoch 9/10\n",
      "422/422 - 86s - 203ms/step - accuracy: 0.9902 - loss: 0.0316 - val_accuracy: 0.9935 - val_loss: 0.0294\n",
      "Epoch 10/10\n",
      "422/422 - 155s - 368ms/step - accuracy: 0.9908 - loss: 0.0299 - val_accuracy: 0.9942 - val_loss: 0.0240\n",
      "\n",
      "✅ Test Accuracy: 0.9933\n",
      "\u001b[1m313/313\u001b[0m \u001b[32m━━━━━━━━━━━━━━━━━━━━\u001b[0m\u001b[37m\u001b[0m \u001b[1m7s\u001b[0m 21ms/step\n"
     ]
    },
    {
     "data": {
      "image/png": "[encoded data removed]",
      "text/plain": [
       "<Figure size 1200x400 with 5 Axes>"
      ]
     },
     "metadata": {},
     "output_type": "display_data"
    }
   ],
   "source": [
    "# Clean TensorFlow MNIST CNN (no warnings)\n",
    "# pip install tensorflow matplotlib\n",
    "\n",
    "import tensorflow as tf\n",
    "from tensorflow.keras import layers, models\n",
    "import numpy as np\n",
    "import matplotlib.pyplot as plt\n",
    "from sklearn.metrics import classification_report\n",
    "\n",
    "# 1️⃣ Load MNIST data\n",
    "(x_train, y_train), (x_test, y_test) = tf.keras.datasets.mnist.load_data()\n",
    "\n",
    "# 2️⃣ Preprocess data\n",
    "x_train = x_train.astype(\"float32\") / 255.0\n",
    "x_test = x_test.astype(\"float32\") / 255.0\n",
    "x_train = np.expand_dims(x_train, -1)  # shape: (60000,28,28,1)\n",
    "x_test = np.expand_dims(x_test, -1)\n",
    "\n",
    "num_classes = 10\n",
    "y_train_cat = tf.keras.utils.to_categorical(y_train, num_classes)\n",
    "y_test_cat = tf.keras.utils.to_categorical(y_test, num_classes)\n",
    "\n",
    "# 3️⃣ Build CNN model using Input layer (✅ no warnings)\n",
    "model = models.Sequential([\n",
    "    layers.Input(shape=(28, 28, 1)),             # <-- Input layer here\n",
    "    layers.Conv2D(32, (3, 3), activation='relu', padding='same'),\n",
    "    layers.Conv2D(32, (3, 3), activation='relu', padding='same'),\n",
    "    layers.MaxPooling2D((2, 2)),\n",
    "    layers.Dropout(0.25),\n",
    "\n",
    "    layers.Conv2D(64, (3, 3), activation='relu', padding='same'),\n",
    "    layers.Conv2D(64, (3, 3), activation='relu', padding='same'),\n",
    "    layers.MaxPooling2D((2, 2)),\n",
    "    layers.Dropout(0.25),\n",
    "\n",
    "    layers.Flatten(),\n",
    "    layers.Dense(128, activation='relu'),\n",
    "    layers.Dropout(0.5),\n",
    "    layers.Dense(num_classes, activation='softmax')\n",
    "])\n",
    "\n",
    "# 4️⃣ Compile model\n",
    "model.compile(optimizer='adam', \n",
    "              loss='categorical_crossentropy', \n",
    "              metrics=['accuracy'])\n",
    "\n",
    "# 5️⃣ Train model\n",
    "history = model.fit(\n",
    "    x_train, y_train_cat,\n",
    "    epochs=10, batch_size=128,\n",
    "    validation_split=0.1, verbose=2\n",
    ")\n",
    "\n",
    "# 6️⃣ Evaluate model\n",
    "test_loss, test_acc = model.evaluate(x_test, y_test_cat, verbose=0)\n",
    "print(f\"\\n✅ Test Accuracy: {test_acc:.4f}\")\n",
    "\n",
    "# 7️⃣ Predict and visualize 5 samples\n",
    "y_pred_probs = model.predict(x_test)\n",
    "y_pred = np.argmax(y_pred_probs, axis=1)\n",
    "\n",
    "import random\n",
    "indices = random.sample(range(len(x_test)), 5)\n",
    "plt.figure(figsize=(12,4))\n",
    "for i, idx in enumerate(indices):\n",
    "    plt.subplot(1,5,i+1)\n",
    "    plt.imshow(x_test[idx].reshape(28,28), cmap='gray')\n",
    "    plt.title(f\"True: {y_test[idx]}\\nPred: {y_pred[idx]}\")\n",
    "    plt.axis('off')\n",
    "plt.show()\n"
   ]
  },
  {
   "cell_type": "code",
   "execution_count": null,
   "id": "54c33350-04fa-462f-b96e-45b1edb41c62",
   "metadata": {},
   "outputs": [],
   "source": []
  }
 ],
 "metadata": {
  "kernelspec": {
   "display_name": "Python 3 (ipykernel)",
   "language": "python",
   "name": "python3"
  },
  "language_info": {
   "codemirror_mode": {
    "name": "ipython",
    "version": 3
   },
   "file_extension": ".py",
   "mimetype": "text/x-python",
   "name": "python",
   "nbconvert_exporter": "python",
   "pygments_lexer": "ipython3",
   "version": "3.13.5"
  }
 },
 "nbformat": 4,
 "nbformat_minor": 5
}
